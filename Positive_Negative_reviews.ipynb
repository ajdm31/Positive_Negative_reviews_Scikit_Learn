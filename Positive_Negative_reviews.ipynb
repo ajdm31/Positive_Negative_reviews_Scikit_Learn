{
 "cells": [
  {
   "cell_type": "markdown",
   "id": "306604d0",
   "metadata": {},
   "source": [
    "## Data Class"
   ]
  },
  {
   "cell_type": "code",
   "execution_count": null,
   "id": "b4249d23",
   "metadata": {},
   "outputs": [],
   "source": [
    "import random\n",
    "\n",
    "#this is a enum class\n",
    "class Sentiment:\n",
    "    NEGATIVE=\"NEGATIVE\"\n",
    "    NEUTRAL=\"NEUTRAL\"\n",
    "    POSITIVE=\"POSITIVE\"\n",
    "    \n",
    "    \n",
    "#lets make a class called \"Review\"\n",
    "class Review:\n",
    "    def __init__(self,text,score):\n",
    "        self.text = text\n",
    "        self.score = score\n",
    "        self.sentiment = self.get_sentiment()\n",
    "        \n",
    "    def get_sentiment(self):#the scores\n",
    "        if self.score <= 2:\n",
    "            return Sentiment.NEGATIVE #prints out \"NEGATIVE\" string\n",
    "        elif self.score == 3:\n",
    "            return Sentiment.NEUTRAL  #prints out \"NEUTRAL\" string\n",
    "        else: #score of 4 or 5\n",
    "            return Sentiment.POSITIVE #prints out \"POSITIVE\" string\n",
    "        \n",
    "\n",
    "#lets make a class called \"ReviewContainer\" to even out the negatives and positives\n",
    "class ReviewContainer:\n",
    "    def __init__(self,reviews):\n",
    "        self.reviews = reviews\n",
    "        \n",
    "    def get_text(self):\n",
    "        return [x.text for x in self.reviews]\n",
    "    \n",
    "    def get_sentiment(self):\n",
    "        return [x.sentiment for x in self.reviews]\n",
    "    \n",
    "    def evenly_distribute(self):\n",
    "        negative = list(filter(lambda x: x.sentiment == Sentiment.NEGATIVE, self.reviews))\n",
    "        positive = list(filter(lambda x: x.sentiment == Sentiment.POSITIVE, self.reviews))\n",
    "        \n",
    "        positive_shrunk = positive[:len(negative)]#this shrinks the positive amount to aprox the negative amount\n",
    "        self.reviews = negative + positive_shrunk#this is the sum of reviews we will have\n",
    "        random.shuffle(self.reviews)#this randamly shuffles our positive and negative values\n",
    "        \n",
    "        "
   ]
  },
  {
   "cell_type": "markdown",
   "id": "a85d1ebf",
   "metadata": {},
   "source": [
    "## Load Data"
   ]
  },
  {
   "cell_type": "code",
   "execution_count": null,
   "id": "fbc1c030",
   "metadata": {
    "scrolled": true
   },
   "outputs": [],
   "source": [
    "import json\n",
    "\n",
    "\n",
    "file_name = './database/books_small_10000.json'#rightnow its raw text, NOT a dictionary\n",
    "\n",
    "reviews =[]\n",
    "with open(file_name) as f:\n",
    "    for line in f:        \n",
    "        review = json.loads(line)        \n",
    "        reviews.append(Review(review[\"reviewText\"],review[\"overall\"]))\n",
    "        \n",
    "reviews[5].text"
   ]
  },
  {
   "cell_type": "markdown",
   "id": "29faf087",
   "metadata": {},
   "source": [
    "## Prep Data"
   ]
  },
  {
   "cell_type": "code",
   "execution_count": null,
   "id": "dc91dc8c",
   "metadata": {},
   "outputs": [],
   "source": [
    "from sklearn.model_selection import train_test_split\n",
    "\n",
    "training, test = train_test_split(reviews, test_size=0.33, random_state=42) ##33% of our data will be test data and\n",
    "\n",
    "train_container= ReviewContainer(training)\n",
    "\n",
    "test_container= ReviewContainer(test)\n",
    "\n"
   ]
  },
  {
   "cell_type": "code",
   "execution_count": null,
   "id": "2b55a596",
   "metadata": {},
   "outputs": [],
   "source": [
    "train_container.evenly_distribute()\n",
    "\n",
    "train_x = train_container.get_text()\n",
    "train_y = train_container.get_sentiment()\n",
    "\n",
    "\n",
    "test_container.evenly_distribute()\n",
    "#and here we have the testing data\n",
    "test_x = test_container.get_text()\n",
    "test_y = test_container.get_sentiment()\n",
    "\n",
    "#count the amount of positives and negatives from our train data\n",
    "print(train_y.count(Sentiment.POSITIVE))\n",
    "print(train_y.count(Sentiment.NEGATIVE))\n"
   ]
  },
  {
   "cell_type": "markdown",
   "id": "ef47beb6",
   "metadata": {},
   "source": [
    "#### Bag of words vectorization"
   ]
  },
  {
   "cell_type": "code",
   "execution_count": null,
   "id": "6438aaec",
   "metadata": {},
   "outputs": [],
   "source": [
    "from sklearn.feature_extraction.text import CountVectorizer, TfidfVectorizer\n",
    "\n",
    "#for our TRAIN data\n",
    "vectorizer = TfidfVectorizer() \n",
    "train_x_vectors = vectorizer.fit_transform(train_x)\n",
    "\n",
    "#for our TEST data\n",
    "test_x_vectors = vectorizer.transform(test_x)\n",
    "\n",
    "print(train_x[0])\n",
    "print(train_x_vectors[0].toarray())\n"
   ]
  },
  {
   "cell_type": "markdown",
   "id": "841b1e37",
   "metadata": {},
   "source": [
    "## Classification"
   ]
  },
  {
   "cell_type": "markdown",
   "id": "7034741d",
   "metadata": {},
   "source": [
    "#### 1) Linear SVM"
   ]
  },
  {
   "cell_type": "code",
   "execution_count": null,
   "id": "987abbf0",
   "metadata": {},
   "outputs": [],
   "source": [
    "from sklearn import svm\n",
    "#clasfier svm\n",
    "clf_svm = svm.SVC(kernel='linear')\n",
    "\n",
    "clf_svm.fit(train_x_vectors, train_y)\n",
    "\n",
    "test_x[0]\n",
    "\n",
    "clf_svm.predict(test_x_vectors[0])"
   ]
  },
  {
   "cell_type": "markdown",
   "id": "bcfbf16c",
   "metadata": {},
   "source": [
    "#### 2) Decision tree"
   ]
  },
  {
   "cell_type": "code",
   "execution_count": null,
   "id": "d0bbf0fd",
   "metadata": {},
   "outputs": [],
   "source": [
    "from sklearn.tree import DecisionTreeClassifier\n",
    "#clasfier decision\n",
    "clf_dec = DecisionTreeClassifier()\n",
    "clf_dec.fit(train_x_vectors, train_y)\n",
    "\n",
    "clf_dec.predict(test_x_vectors[0])"
   ]
  },
  {
   "cell_type": "markdown",
   "id": "a9c24382",
   "metadata": {},
   "source": [
    "#### 3) Naive Bayes"
   ]
  },
  {
   "cell_type": "code",
   "execution_count": null,
   "id": "44bb6a01",
   "metadata": {},
   "outputs": [],
   "source": [
    "#for reviewing\n",
    "from sklearn.naive_bayes import GaussianNB\n",
    "\n",
    "from sklearn.tree import DecisionTreeClassifier\n",
    "#clasfier gaussianNB\n",
    "clf_gnb = GaussianNB()\n",
    "clf_gnb.fit(train_x_vectors, train_y)\n",
    "\n",
    "clf_gnb.predict(test_x_vectors[0])"
   ]
  },
  {
   "cell_type": "markdown",
   "id": "9d74f9dd",
   "metadata": {},
   "source": [
    "#### 4) Logistic Regression"
   ]
  },
  {
   "cell_type": "code",
   "execution_count": null,
   "id": "80836ba9",
   "metadata": {},
   "outputs": [],
   "source": [
    "from sklearn.linear_model import LogisticRegression\n",
    "\n",
    "\n",
    "#clasfier logistics\n",
    "clf_log = LogisticRegression()\n",
    "clf_log.fit(train_x_vectors, train_y)\n",
    "\n",
    "clf_log.predict(test_x_vectors[0])"
   ]
  },
  {
   "cell_type": "code",
   "execution_count": null,
   "id": "76bf938d",
   "metadata": {},
   "outputs": [],
   "source": []
  },
  {
   "cell_type": "markdown",
   "id": "69309f45",
   "metadata": {},
   "source": [
    "## Evaluation"
   ]
  },
  {
   "cell_type": "code",
   "execution_count": null,
   "id": "615e6b71",
   "metadata": {},
   "outputs": [],
   "source": [
    "#Mean Accuracy on all our test labels\n",
    "print(clf_svm.score(test_x_vectors, test_y))\n",
    "print(clf_dec.score(test_x_vectors, test_y))\n",
    "#print(clf_gnb.score(test_x_vectors, test_y))\n",
    "print(clf_log.score(test_x_vectors, test_y))"
   ]
  },
  {
   "cell_type": "code",
   "execution_count": null,
   "id": "1c9ba6da",
   "metadata": {},
   "outputs": [],
   "source": [
    "#F1 Scores\n",
    "from sklearn.metrics import f1_score\n",
    "\n",
    "#here we use TEST data, not TRANING\n",
    "f1_score(test_y, clf_svm.predict(test_x_vectors), average =None, labels=[Sentiment.POSITIVE, Sentiment.NEGATIVE])\n"
   ]
  },
  {
   "cell_type": "code",
   "execution_count": 1,
   "id": "5aadb912",
   "metadata": {},
   "outputs": [],
   "source": []
  },
  {
   "cell_type": "code",
   "execution_count": null,
   "id": "83877312",
   "metadata": {},
   "outputs": [],
   "source": [
    "#lets try passing some reviews to see how it clasifies them\n",
    "#test_set = ['I thoroughly enjoyed this, 5 stars',\"bad book do not buy\",\"horrible waste of time\"]\n",
    "test_set = ['not great, 5 stars',\"i loved it\",\"i thought it was bad\"]\n",
    "new_test = vectorizer.transform(test_set)\n",
    "\n",
    "clf_svm.predict(new_test)\n"
   ]
  },
  {
   "cell_type": "markdown",
   "id": "92d6f5a6",
   "metadata": {},
   "source": [
    "## Tuning our model (with Grid Search)"
   ]
  },
  {
   "cell_type": "code",
   "execution_count": null,
   "id": "e77f37f0",
   "metadata": {},
   "outputs": [],
   "source": [
    "from sklearn.model_selection import GridSearchCV\n",
    "\n",
    "#lets make a dictionary object called \"parameter\"\n",
    "parameters = {'kernel': ('linear', 'rbf'), 'C':(1,4,8,16,32)}\n",
    "\n",
    "svc = svm.SVC()\n",
    "clf = GridSearchCV(svc, parameters, cv =5)\n",
    "clf.fit(train_x_vectors, train_y)\n"
   ]
  },
  {
   "cell_type": "code",
   "execution_count": null,
   "id": "059c6ed3",
   "metadata": {},
   "outputs": [],
   "source": [
    "print(clf.score(test_x_vectors, test_y))"
   ]
  },
  {
   "cell_type": "markdown",
   "id": "b70210b0",
   "metadata": {},
   "source": [
    "## Saving Model"
   ]
  },
  {
   "cell_type": "code",
   "execution_count": null,
   "id": "d5efd1b5",
   "metadata": {},
   "outputs": [],
   "source": [
    "import pickle\n",
    "\n",
    "with open('./sentiment_classifier.pkl', 'wb') as f: \n",
    "    pickle.dump(clf,f)"
   ]
  },
  {
   "cell_type": "markdown",
   "id": "da33a60b",
   "metadata": {},
   "source": [
    "## Load Model"
   ]
  },
  {
   "cell_type": "code",
   "execution_count": null,
   "id": "ce8698a8",
   "metadata": {},
   "outputs": [],
   "source": [
    "with open('./sentiment_classifier.pkl', 'rb') as f:\n",
    "    loaded_clf = pickle.load(f) \n",
    "    \n",
    "print(test_x[0])\n",
    "loaded_clf.predict(test_x_vectors[0])"
   ]
  },
  {
   "cell_type": "code",
   "execution_count": null,
   "id": "b8056de3",
   "metadata": {},
   "outputs": [],
   "source": []
  },
  {
   "cell_type": "code",
   "execution_count": null,
   "id": "f87b4a8e",
   "metadata": {},
   "outputs": [],
   "source": []
  }
 ],
 "metadata": {
  "kernelspec": {
   "display_name": "Python 3",
   "language": "python",
   "name": "python3"
  },
  "language_info": {
   "codemirror_mode": {
    "name": "ipython",
    "version": 3
   },
   "file_extension": ".py",
   "mimetype": "text/x-python",
   "name": "python",
   "nbconvert_exporter": "python",
   "pygments_lexer": "ipython3",
   "version": "3.9.3"
  }
 },
 "nbformat": 4,
 "nbformat_minor": 5
}
